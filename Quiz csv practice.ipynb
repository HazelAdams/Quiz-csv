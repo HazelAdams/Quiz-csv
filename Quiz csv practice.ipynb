{
 "cells": [
  {
   "cell_type": "code",
   "execution_count": null,
   "metadata": {},
   "outputs": [],
   "source": [
    "import csv\n",
    "\n",
    "def get_questions():\n",
    "    questions = []\n",
    "    try:\n",
    "        with open(\"farming.csv\") as my_file:\n",
    "            reader = csv.reader(my_file)\n",
    "            for row in reader:\n",
    "                questions.append(row)\n",
    "            return questions\n",
    "        \n",
    "    except FileNotFoundError:\n",
    "        print(\"sorry that file was not found\")\n",
    "\n",
    "questionList = get_questions()"
   ]
  }
 ],
 "metadata": {
  "kernelspec": {
   "display_name": "Python 3",
   "language": "python",
   "name": "python3"
  },
  "language_info": {
   "codemirror_mode": {
    "name": "ipython",
    "version": 3
   },
   "file_extension": ".py",
   "mimetype": "text/x-python",
   "name": "python",
   "nbconvert_exporter": "python",
   "pygments_lexer": "ipython3",
   "version": "3.5.2"
  }
 },
 "nbformat": 4,
 "nbformat_minor": 2
}
